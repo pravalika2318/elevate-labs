{
 "cells": [
  {
   "cell_type": "code",
   "execution_count": 72,
   "id": "7695e5a0-88df-4524-a280-202e15ae0e25",
   "metadata": {},
   "outputs": [
    {
     "name": "stdout",
     "output_type": "stream",
     "text": [
      "Order ID        0\n",
      "Amount          0\n",
      "Profit          0\n",
      "Quantity        0\n",
      "Category        0\n",
      "Sub-Category    0\n",
      "PaymentMode     0\n",
      "Order Date      0\n",
      "CustomerName    0\n",
      "State           0\n",
      "City            0\n",
      "Year-Month      0\n",
      "dtype: int64\n",
      "     Order ID  Amount  Profit  Quantity         Category      Sub-Category  \\\n",
      "0     B-26776    9726    1275         5      Electronics  Electronic Games   \n",
      "1     B-26776    9726    1275         5      Electronics  Electronic Games   \n",
      "2     B-26776    9726    1275         5      Electronics  Electronic Games   \n",
      "3     B-26776    4975    1330        14      Electronics          Printers   \n",
      "4     B-26776    4975    1330        14      Electronics          Printers   \n",
      "...       ...     ...     ...       ...              ...               ...   \n",
      "1189  B-26370    8825    3594        15        Furniture            Tables   \n",
      "1190  B-26371    2082     642         8      Electronics            Phones   \n",
      "1191  B-26372    2082     642         8      Electronics            Phones   \n",
      "1192  B-26298    2082     642         8      Electronics            Phones   \n",
      "1193  B-25068     914     163        13  Office Supplies           Markers   \n",
      "\n",
      "     PaymentMode  Order Date        CustomerName     State           City  \\\n",
      "0            UPI  27-06-2023       David Padilla   Florida          Miami   \n",
      "1            UPI  27-12-2024       Connor Morgan  Illinois        Chicago   \n",
      "2            UPI  25-07-2021        Robert Stone  New York        Buffalo   \n",
      "3            UPI  27-06-2023       David Padilla   Florida          Miami   \n",
      "4            UPI  27-12-2024       Connor Morgan  Illinois        Chicago   \n",
      "...          ...         ...                 ...       ...            ...   \n",
      "1189  Debit Card  31-07-2024        Megan Mclean  New York  New York City   \n",
      "1190         EMI  02-06-2020        Caitlin Hunt  New York      Rochester   \n",
      "1191         EMI  15-12-2022       Jenna Holland     Texas         Austin   \n",
      "1192         EMI  07-08-2020  Stephanie Oconnell  New York        Buffalo   \n",
      "1193         UPI  26-10-2024         Andrea Hill  Illinois        Chicago   \n",
      "\n",
      "     Year-Month  \n",
      "0       2023-06  \n",
      "1       2024-12  \n",
      "2       2021-07  \n",
      "3       2023-06  \n",
      "4       2024-12  \n",
      "...         ...  \n",
      "1189    2024-07  \n",
      "1190    2020-06  \n",
      "1191    2022-12  \n",
      "1192    2020-08  \n",
      "1193    2024-10  \n",
      "\n",
      "[1194 rows x 12 columns]\n"
     ]
    }
   ],
   "source": [
    "import pandas as pd\n",
    "df = pd.read_csv(r\"C:\\Users\\prava\\Downloads\\Sales Dataset.csv\")\n",
    "missing_values = df.isnull().sum()\n",
    "print(missing_values)\n",
    "print (df)"
   ]
  },
  {
   "cell_type": "code",
   "execution_count": 74,
   "id": "6555b1af-60bd-4f68-912b-34a7ec7a8477",
   "metadata": {},
   "outputs": [
    {
     "name": "stdout",
     "output_type": "stream",
     "text": [
      "<bound method DataFrame.drop_duplicates of      Order ID  Amount  Profit  Quantity         Category      Sub-Category  \\\n",
      "0     B-26776    9726    1275         5      Electronics  Electronic Games   \n",
      "1     B-26776    9726    1275         5      Electronics  Electronic Games   \n",
      "2     B-26776    9726    1275         5      Electronics  Electronic Games   \n",
      "3     B-26776    4975    1330        14      Electronics          Printers   \n",
      "4     B-26776    4975    1330        14      Electronics          Printers   \n",
      "...       ...     ...     ...       ...              ...               ...   \n",
      "1189  B-26370    8825    3594        15        Furniture            Tables   \n",
      "1190  B-26371    2082     642         8      Electronics            Phones   \n",
      "1191  B-26372    2082     642         8      Electronics            Phones   \n",
      "1192  B-26298    2082     642         8      Electronics            Phones   \n",
      "1193  B-25068     914     163        13  Office Supplies           Markers   \n",
      "\n",
      "     PaymentMode  Order Date        CustomerName     State           City  \\\n",
      "0            UPI  27-06-2023       David Padilla   Florida          Miami   \n",
      "1            UPI  27-12-2024       Connor Morgan  Illinois        Chicago   \n",
      "2            UPI  25-07-2021        Robert Stone  New York        Buffalo   \n",
      "3            UPI  27-06-2023       David Padilla   Florida          Miami   \n",
      "4            UPI  27-12-2024       Connor Morgan  Illinois        Chicago   \n",
      "...          ...         ...                 ...       ...            ...   \n",
      "1189  Debit Card  31-07-2024        Megan Mclean  New York  New York City   \n",
      "1190         EMI  02-06-2020        Caitlin Hunt  New York      Rochester   \n",
      "1191         EMI  15-12-2022       Jenna Holland     Texas         Austin   \n",
      "1192         EMI  07-08-2020  Stephanie Oconnell  New York        Buffalo   \n",
      "1193         UPI  26-10-2024         Andrea Hill  Illinois        Chicago   \n",
      "\n",
      "     Year-Month  \n",
      "0       2023-06  \n",
      "1       2024-12  \n",
      "2       2021-07  \n",
      "3       2023-06  \n",
      "4       2024-12  \n",
      "...         ...  \n",
      "1189    2024-07  \n",
      "1190    2020-06  \n",
      "1191    2022-12  \n",
      "1192    2020-08  \n",
      "1193    2024-10  \n",
      "\n",
      "[1194 rows x 12 columns]>\n"
     ]
    }
   ],
   "source": [
    "df.drop_duplicates(inplace=True)\n",
    "print(df.drop_duplicates)\n"
   ]
  },
  {
   "cell_type": "code",
   "execution_count": 86,
   "id": "d2f8775a-6464-4105-8b46-1322fbed5fcd",
   "metadata": {},
   "outputs": [
    {
     "name": "stdout",
     "output_type": "stream",
     "text": [
      "0               Miami\n",
      "1             Chicago\n",
      "2             Buffalo\n",
      "3               Miami\n",
      "4             Chicago\n",
      "            ...      \n",
      "1189    New York City\n",
      "1190        Rochester\n",
      "1191           Austin\n",
      "1192          Buffalo\n",
      "1193          Chicago\n",
      "Name: City, Length: 1194, dtype: object\n"
     ]
    }
   ],
   "source": [
    "\n",
    "df['City'] = df['City'].str.title().str.strip()\n",
    "print(df['City'])\n",
    "\n"
   ]
  },
  {
   "cell_type": "code",
   "execution_count": 76,
   "id": "c7816de8-088c-446e-8065-cb27373df9b8",
   "metadata": {},
   "outputs": [
    {
     "name": "stdout",
     "output_type": "stream",
     "text": [
      "Index(['order_id', 'amount', 'profit', 'quantity', 'category', 'sub-category',\n",
      "       'paymentmode', 'order_date', 'customername', 'state', 'city',\n",
      "       'year-month'],\n",
      "      dtype='object')\n"
     ]
    }
   ],
   "source": [
    "df.columns = df.columns.str.lower().str.replace(' ', '_')\n",
    "print (df.columns)"
   ]
  },
  {
   "cell_type": "code",
   "execution_count": 82,
   "id": "32407906-b758-4eba-9d9e-09ef62fae7a7",
   "metadata": {},
   "outputs": [
    {
     "name": "stdout",
     "output_type": "stream",
     "text": [
      "0      2023-06-27\n",
      "1      2024-12-27\n",
      "2      2021-07-25\n",
      "3      2023-06-27\n",
      "4      2024-12-27\n",
      "          ...    \n",
      "1189   2024-07-31\n",
      "1190   2020-06-02\n",
      "1191   2022-12-15\n",
      "1192   2020-08-07\n",
      "1193   2024-10-26\n",
      "Name: order_date, Length: 1194, dtype: datetime64[ns]\n"
     ]
    }
   ],
   "source": [
    "df['order_date'] = pd.to_datetime(df['order_date'], format='%d-%m-%Y')\n",
    "print(df['order_date'])"
   ]
  },
  {
   "cell_type": "code",
   "execution_count": 88,
   "id": "1dfae7d2-5b63-4a20-880e-d4c9ba99e69f",
   "metadata": {},
   "outputs": [
    {
     "data": {
      "text/html": [
       "<div>\n",
       "<style scoped>\n",
       "    .dataframe tbody tr th:only-of-type {\n",
       "        vertical-align: middle;\n",
       "    }\n",
       "\n",
       "    .dataframe tbody tr th {\n",
       "        vertical-align: top;\n",
       "    }\n",
       "\n",
       "    .dataframe thead th {\n",
       "        text-align: right;\n",
       "    }\n",
       "</style>\n",
       "<table border=\"1\" class=\"dataframe\">\n",
       "  <thead>\n",
       "    <tr style=\"text-align: right;\">\n",
       "      <th></th>\n",
       "      <th>Amount</th>\n",
       "      <th>Profit</th>\n",
       "      <th>Quantity</th>\n",
       "    </tr>\n",
       "  </thead>\n",
       "  <tbody>\n",
       "    <tr>\n",
       "      <th>count</th>\n",
       "      <td>1194.000000</td>\n",
       "      <td>1194.000000</td>\n",
       "      <td>1194.000000</td>\n",
       "    </tr>\n",
       "    <tr>\n",
       "      <th>mean</th>\n",
       "      <td>5178.089615</td>\n",
       "      <td>1348.992462</td>\n",
       "      <td>10.674204</td>\n",
       "    </tr>\n",
       "    <tr>\n",
       "      <th>std</th>\n",
       "      <td>2804.921955</td>\n",
       "      <td>1117.992573</td>\n",
       "      <td>5.777102</td>\n",
       "    </tr>\n",
       "    <tr>\n",
       "      <th>min</th>\n",
       "      <td>508.000000</td>\n",
       "      <td>50.000000</td>\n",
       "      <td>1.000000</td>\n",
       "    </tr>\n",
       "    <tr>\n",
       "      <th>25%</th>\n",
       "      <td>2799.000000</td>\n",
       "      <td>410.000000</td>\n",
       "      <td>6.000000</td>\n",
       "    </tr>\n",
       "    <tr>\n",
       "      <th>50%</th>\n",
       "      <td>5152.000000</td>\n",
       "      <td>1014.000000</td>\n",
       "      <td>11.000000</td>\n",
       "    </tr>\n",
       "    <tr>\n",
       "      <th>75%</th>\n",
       "      <td>7626.000000</td>\n",
       "      <td>2035.000000</td>\n",
       "      <td>16.000000</td>\n",
       "    </tr>\n",
       "    <tr>\n",
       "      <th>max</th>\n",
       "      <td>9992.000000</td>\n",
       "      <td>4930.000000</td>\n",
       "      <td>20.000000</td>\n",
       "    </tr>\n",
       "  </tbody>\n",
       "</table>\n",
       "</div>"
      ],
      "text/plain": [
       "            Amount       Profit     Quantity\n",
       "count  1194.000000  1194.000000  1194.000000\n",
       "mean   5178.089615  1348.992462    10.674204\n",
       "std    2804.921955  1117.992573     5.777102\n",
       "min     508.000000    50.000000     1.000000\n",
       "25%    2799.000000   410.000000     6.000000\n",
       "50%    5152.000000  1014.000000    11.000000\n",
       "75%    7626.000000  2035.000000    16.000000\n",
       "max    9992.000000  4930.000000    20.000000"
      ]
     },
     "execution_count": 88,
     "metadata": {},
     "output_type": "execute_result"
    }
   ],
   "source": [
    "df.describe()"
   ]
  },
  {
   "cell_type": "code",
   "execution_count": 106,
   "id": "55e12c42-a1e1-40e2-92f9-dfd967bbe053",
   "metadata": {},
   "outputs": [
    {
     "data": {
      "text/plain": [
       "Category\n",
       "Furniture          407\n",
       "Office Supplies    399\n",
       "Electronics        388\n",
       "Name: count, dtype: int64"
      ]
     },
     "execution_count": 106,
     "metadata": {},
     "output_type": "execute_result"
    }
   ],
   "source": [
    "df.value_counts('Category')"
   ]
  },
  {
   "cell_type": "code",
   "execution_count": 112,
   "id": "1a7b47f4-7330-48f4-ac18-7d2b95ea7954",
   "metadata": {},
   "outputs": [
    {
     "name": "stdout",
     "output_type": "stream",
     "text": [
      "     Order ID  Amount  Profit  Quantity         Category      Sub-Category  \\\n",
      "0     B-26776    9726    1275         5      Electronics  Electronic Games   \n",
      "6     B-26942    1525     185        12  Office Supplies              Pens   \n",
      "8     B-26640     883     117        10      Electronics           Laptops   \n",
      "10    B-25890    2516     734        19        Furniture            Chairs   \n",
      "11    B-25102    2975     462        14  Office Supplies              Pens   \n",
      "...       ...     ...     ...       ...              ...               ...   \n",
      "1189  B-26370    8825    3594        15        Furniture            Tables   \n",
      "1190  B-26371    2082     642         8      Electronics            Phones   \n",
      "1191  B-26372    2082     642         8      Electronics            Phones   \n",
      "1192  B-26298    2082     642         8      Electronics            Phones   \n",
      "1193  B-25068     914     163        13  Office Supplies           Markers   \n",
      "\n",
      "      PaymentMode  Order Date        CustomerName       State           City  \\\n",
      "0             UPI  27-06-2023       David Padilla     Florida          Miami   \n",
      "6      Debit Card  11-05-2024         John Fields     Florida        Orlando   \n",
      "8             EMI  18-11-2022      Richard Kelley  California    Los Angeles   \n",
      "10            UPI  12-11-2023  Jacqueline Hubbard    New York  New York City   \n",
      "11    Credit Card  23-03-2020    Jessica Anderson    New York  New York City   \n",
      "...           ...         ...                 ...         ...            ...   \n",
      "1189   Debit Card  31-07-2024        Megan Mclean    New York  New York City   \n",
      "1190          EMI  02-06-2020        Caitlin Hunt    New York      Rochester   \n",
      "1191          EMI  15-12-2022       Jenna Holland       Texas         Austin   \n",
      "1192          EMI  07-08-2020  Stephanie Oconnell    New York        Buffalo   \n",
      "1193          UPI  26-10-2024         Andrea Hill    Illinois        Chicago   \n",
      "\n",
      "     Year-Month  \n",
      "0       2023-06  \n",
      "6       2024-05  \n",
      "8       2022-11  \n",
      "10      2023-11  \n",
      "11      2020-03  \n",
      "...         ...  \n",
      "1189    2024-07  \n",
      "1190    2020-06  \n",
      "1191    2022-12  \n",
      "1192    2020-08  \n",
      "1193    2024-10  \n",
      "\n",
      "[549 rows x 12 columns]\n"
     ]
    }
   ],
   "source": [
    "data = df.drop_duplicates('Order ID')\n",
    "print(data)"
   ]
  },
  {
   "cell_type": "code",
   "execution_count": null,
   "id": "dc2f133b-b10e-420c-9214-ab7cbb423ab6",
   "metadata": {},
   "outputs": [],
   "source": []
  },
  {
   "cell_type": "code",
   "execution_count": null,
   "id": "9b52106c-0210-496d-9ea3-ec5bc4f7b00f",
   "metadata": {},
   "outputs": [],
   "source": []
  }
 ],
 "metadata": {
  "kernelspec": {
   "display_name": "Python [conda env:base] *",
   "language": "python",
   "name": "conda-base-py"
  },
  "language_info": {
   "codemirror_mode": {
    "name": "ipython",
    "version": 3
   },
   "file_extension": ".py",
   "mimetype": "text/x-python",
   "name": "python",
   "nbconvert_exporter": "python",
   "pygments_lexer": "ipython3",
   "version": "3.12.7"
  }
 },
 "nbformat": 4,
 "nbformat_minor": 5
}
